{
 "cells": [
  {
   "cell_type": "markdown",
   "metadata": {},
   "source": [
    "### Problem Statement: Pick up the following stocks and generate forecasts accordingly Stocks:\n",
    "\n",
    "1. NASDAQ.AAPL\n",
    "2. NASDAQ.ADP\n",
    "3. NASDAQ.CBOE\n",
    "4. NASDAQ.CSCO\n",
    "5. NASDAQ.EBAY"
   ]
  },
  {
   "cell_type": "code",
   "execution_count": 1,
   "metadata": {},
   "outputs": [],
   "source": [
    "import pandas as pd\n",
    "from pandas import datetime\n",
    "import matplotlib.pyplot as plt\n",
    "%matplotlib inline"
   ]
  },
  {
   "cell_type": "code",
   "execution_count": 2,
   "metadata": {},
   "outputs": [],
   "source": [
    "df = pd.read_csv(\"data_stocks.csv\", nrows=1000)"
   ]
  },
  {
   "cell_type": "code",
   "execution_count": 3,
   "metadata": {
    "scrolled": true
   },
   "outputs": [
    {
     "data": {
      "text/html": [
       "<div>\n",
       "<style scoped>\n",
       "    .dataframe tbody tr th:only-of-type {\n",
       "        vertical-align: middle;\n",
       "    }\n",
       "\n",
       "    .dataframe tbody tr th {\n",
       "        vertical-align: top;\n",
       "    }\n",
       "\n",
       "    .dataframe thead th {\n",
       "        text-align: right;\n",
       "    }\n",
       "</style>\n",
       "<table border=\"1\" class=\"dataframe\">\n",
       "  <thead>\n",
       "    <tr style=\"text-align: right;\">\n",
       "      <th></th>\n",
       "      <th>DATE</th>\n",
       "      <th>SP500</th>\n",
       "      <th>NASDAQ.AAL</th>\n",
       "      <th>NASDAQ.AAPL</th>\n",
       "      <th>NASDAQ.ADBE</th>\n",
       "      <th>NASDAQ.ADI</th>\n",
       "      <th>NASDAQ.ADP</th>\n",
       "      <th>NASDAQ.ADSK</th>\n",
       "      <th>NASDAQ.AKAM</th>\n",
       "      <th>NASDAQ.ALXN</th>\n",
       "      <th>...</th>\n",
       "      <th>NYSE.WYN</th>\n",
       "      <th>NYSE.XEC</th>\n",
       "      <th>NYSE.XEL</th>\n",
       "      <th>NYSE.XL</th>\n",
       "      <th>NYSE.XOM</th>\n",
       "      <th>NYSE.XRX</th>\n",
       "      <th>NYSE.XYL</th>\n",
       "      <th>NYSE.YUM</th>\n",
       "      <th>NYSE.ZBH</th>\n",
       "      <th>NYSE.ZTS</th>\n",
       "    </tr>\n",
       "  </thead>\n",
       "  <tbody>\n",
       "    <tr>\n",
       "      <th>0</th>\n",
       "      <td>1491226200</td>\n",
       "      <td>2363.6101</td>\n",
       "      <td>42.3300</td>\n",
       "      <td>143.6800</td>\n",
       "      <td>129.6300</td>\n",
       "      <td>82.040</td>\n",
       "      <td>102.2300</td>\n",
       "      <td>85.2200</td>\n",
       "      <td>59.760</td>\n",
       "      <td>121.52</td>\n",
       "      <td>...</td>\n",
       "      <td>84.370</td>\n",
       "      <td>119.035</td>\n",
       "      <td>44.40</td>\n",
       "      <td>39.88</td>\n",
       "      <td>82.03</td>\n",
       "      <td>7.36</td>\n",
       "      <td>50.22</td>\n",
       "      <td>63.86</td>\n",
       "      <td>122.000</td>\n",
       "      <td>53.350</td>\n",
       "    </tr>\n",
       "    <tr>\n",
       "      <th>1</th>\n",
       "      <td>1491226260</td>\n",
       "      <td>2364.1001</td>\n",
       "      <td>42.3600</td>\n",
       "      <td>143.7000</td>\n",
       "      <td>130.3200</td>\n",
       "      <td>82.080</td>\n",
       "      <td>102.1400</td>\n",
       "      <td>85.6500</td>\n",
       "      <td>59.840</td>\n",
       "      <td>121.48</td>\n",
       "      <td>...</td>\n",
       "      <td>84.370</td>\n",
       "      <td>119.035</td>\n",
       "      <td>44.11</td>\n",
       "      <td>39.88</td>\n",
       "      <td>82.03</td>\n",
       "      <td>7.38</td>\n",
       "      <td>50.22</td>\n",
       "      <td>63.74</td>\n",
       "      <td>121.770</td>\n",
       "      <td>53.350</td>\n",
       "    </tr>\n",
       "    <tr>\n",
       "      <th>2</th>\n",
       "      <td>1491226320</td>\n",
       "      <td>2362.6799</td>\n",
       "      <td>42.3100</td>\n",
       "      <td>143.6901</td>\n",
       "      <td>130.2250</td>\n",
       "      <td>82.030</td>\n",
       "      <td>102.2125</td>\n",
       "      <td>85.5100</td>\n",
       "      <td>59.795</td>\n",
       "      <td>121.93</td>\n",
       "      <td>...</td>\n",
       "      <td>84.585</td>\n",
       "      <td>119.260</td>\n",
       "      <td>44.09</td>\n",
       "      <td>39.98</td>\n",
       "      <td>82.02</td>\n",
       "      <td>7.36</td>\n",
       "      <td>50.12</td>\n",
       "      <td>63.75</td>\n",
       "      <td>121.700</td>\n",
       "      <td>53.365</td>\n",
       "    </tr>\n",
       "    <tr>\n",
       "      <th>3</th>\n",
       "      <td>1491226380</td>\n",
       "      <td>2364.3101</td>\n",
       "      <td>42.3700</td>\n",
       "      <td>143.6400</td>\n",
       "      <td>130.0729</td>\n",
       "      <td>82.000</td>\n",
       "      <td>102.1400</td>\n",
       "      <td>85.4872</td>\n",
       "      <td>59.620</td>\n",
       "      <td>121.44</td>\n",
       "      <td>...</td>\n",
       "      <td>84.460</td>\n",
       "      <td>119.260</td>\n",
       "      <td>44.25</td>\n",
       "      <td>39.99</td>\n",
       "      <td>82.02</td>\n",
       "      <td>7.35</td>\n",
       "      <td>50.16</td>\n",
       "      <td>63.88</td>\n",
       "      <td>121.700</td>\n",
       "      <td>53.380</td>\n",
       "    </tr>\n",
       "    <tr>\n",
       "      <th>4</th>\n",
       "      <td>1491226440</td>\n",
       "      <td>2364.8501</td>\n",
       "      <td>42.5378</td>\n",
       "      <td>143.6600</td>\n",
       "      <td>129.8800</td>\n",
       "      <td>82.035</td>\n",
       "      <td>102.0600</td>\n",
       "      <td>85.7001</td>\n",
       "      <td>59.620</td>\n",
       "      <td>121.60</td>\n",
       "      <td>...</td>\n",
       "      <td>84.470</td>\n",
       "      <td>119.610</td>\n",
       "      <td>44.11</td>\n",
       "      <td>39.96</td>\n",
       "      <td>82.03</td>\n",
       "      <td>7.36</td>\n",
       "      <td>50.20</td>\n",
       "      <td>63.91</td>\n",
       "      <td>121.695</td>\n",
       "      <td>53.240</td>\n",
       "    </tr>\n",
       "  </tbody>\n",
       "</table>\n",
       "<p>5 rows × 502 columns</p>\n",
       "</div>"
      ],
      "text/plain": [
       "         DATE      SP500  NASDAQ.AAL  NASDAQ.AAPL  NASDAQ.ADBE  NASDAQ.ADI  \\\n",
       "0  1491226200  2363.6101     42.3300     143.6800     129.6300      82.040   \n",
       "1  1491226260  2364.1001     42.3600     143.7000     130.3200      82.080   \n",
       "2  1491226320  2362.6799     42.3100     143.6901     130.2250      82.030   \n",
       "3  1491226380  2364.3101     42.3700     143.6400     130.0729      82.000   \n",
       "4  1491226440  2364.8501     42.5378     143.6600     129.8800      82.035   \n",
       "\n",
       "   NASDAQ.ADP  NASDAQ.ADSK  NASDAQ.AKAM  NASDAQ.ALXN  ...  NYSE.WYN  NYSE.XEC  \\\n",
       "0    102.2300      85.2200       59.760       121.52  ...    84.370   119.035   \n",
       "1    102.1400      85.6500       59.840       121.48  ...    84.370   119.035   \n",
       "2    102.2125      85.5100       59.795       121.93  ...    84.585   119.260   \n",
       "3    102.1400      85.4872       59.620       121.44  ...    84.460   119.260   \n",
       "4    102.0600      85.7001       59.620       121.60  ...    84.470   119.610   \n",
       "\n",
       "   NYSE.XEL  NYSE.XL  NYSE.XOM  NYSE.XRX  NYSE.XYL  NYSE.YUM  NYSE.ZBH  \\\n",
       "0     44.40    39.88     82.03      7.36     50.22     63.86   122.000   \n",
       "1     44.11    39.88     82.03      7.38     50.22     63.74   121.770   \n",
       "2     44.09    39.98     82.02      7.36     50.12     63.75   121.700   \n",
       "3     44.25    39.99     82.02      7.35     50.16     63.88   121.700   \n",
       "4     44.11    39.96     82.03      7.36     50.20     63.91   121.695   \n",
       "\n",
       "   NYSE.ZTS  \n",
       "0    53.350  \n",
       "1    53.350  \n",
       "2    53.365  \n",
       "3    53.380  \n",
       "4    53.240  \n",
       "\n",
       "[5 rows x 502 columns]"
      ]
     },
     "execution_count": 3,
     "metadata": {},
     "output_type": "execute_result"
    }
   ],
   "source": [
    "df.head()"
   ]
  },
  {
   "cell_type": "code",
   "execution_count": 4,
   "metadata": {},
   "outputs": [
    {
     "data": {
      "text/plain": [
       "(1000, 502)"
      ]
     },
     "execution_count": 4,
     "metadata": {},
     "output_type": "execute_result"
    }
   ],
   "source": [
    "df.shape"
   ]
  },
  {
   "cell_type": "code",
   "execution_count": 5,
   "metadata": {},
   "outputs": [
    {
     "data": {
      "text/plain": [
       "dtype('int64')"
      ]
     },
     "execution_count": 5,
     "metadata": {},
     "output_type": "execute_result"
    }
   ],
   "source": [
    "df['DATE'].dtypes"
   ]
  },
  {
   "cell_type": "code",
   "execution_count": 6,
   "metadata": {},
   "outputs": [],
   "source": [
    "df['DATE'] = pd.to_datetime(df['DATE'], unit='s')"
   ]
  },
  {
   "cell_type": "code",
   "execution_count": 7,
   "metadata": {},
   "outputs": [
    {
     "data": {
      "text/plain": [
       "995   2017-04-05 17:03:00\n",
       "996   2017-04-05 17:04:00\n",
       "997   2017-04-05 17:05:00\n",
       "998   2017-04-05 17:06:00\n",
       "999   2017-04-05 17:07:00\n",
       "Name: DATE, dtype: datetime64[ns]"
      ]
     },
     "execution_count": 7,
     "metadata": {},
     "output_type": "execute_result"
    }
   ],
   "source": [
    "df['DATE'].tail()"
   ]
  },
  {
   "cell_type": "code",
   "execution_count": 8,
   "metadata": {},
   "outputs": [],
   "source": [
    "df.index = df['DATE']"
   ]
  },
  {
   "cell_type": "code",
   "execution_count": 9,
   "metadata": {},
   "outputs": [],
   "source": [
    "df.drop('DATE',axis = 1,inplace=True)"
   ]
  },
  {
   "cell_type": "code",
   "execution_count": 10,
   "metadata": {},
   "outputs": [
    {
     "data": {
      "text/html": [
       "<div>\n",
       "<style scoped>\n",
       "    .dataframe tbody tr th:only-of-type {\n",
       "        vertical-align: middle;\n",
       "    }\n",
       "\n",
       "    .dataframe tbody tr th {\n",
       "        vertical-align: top;\n",
       "    }\n",
       "\n",
       "    .dataframe thead th {\n",
       "        text-align: right;\n",
       "    }\n",
       "</style>\n",
       "<table border=\"1\" class=\"dataframe\">\n",
       "  <thead>\n",
       "    <tr style=\"text-align: right;\">\n",
       "      <th></th>\n",
       "      <th>SP500</th>\n",
       "      <th>NASDAQ.AAL</th>\n",
       "      <th>NASDAQ.AAPL</th>\n",
       "      <th>NASDAQ.ADBE</th>\n",
       "      <th>NASDAQ.ADI</th>\n",
       "      <th>NASDAQ.ADP</th>\n",
       "      <th>NASDAQ.ADSK</th>\n",
       "      <th>NASDAQ.AKAM</th>\n",
       "      <th>NASDAQ.ALXN</th>\n",
       "      <th>NASDAQ.AMAT</th>\n",
       "      <th>...</th>\n",
       "      <th>NYSE.WYN</th>\n",
       "      <th>NYSE.XEC</th>\n",
       "      <th>NYSE.XEL</th>\n",
       "      <th>NYSE.XL</th>\n",
       "      <th>NYSE.XOM</th>\n",
       "      <th>NYSE.XRX</th>\n",
       "      <th>NYSE.XYL</th>\n",
       "      <th>NYSE.YUM</th>\n",
       "      <th>NYSE.ZBH</th>\n",
       "      <th>NYSE.ZTS</th>\n",
       "    </tr>\n",
       "    <tr>\n",
       "      <th>DATE</th>\n",
       "      <th></th>\n",
       "      <th></th>\n",
       "      <th></th>\n",
       "      <th></th>\n",
       "      <th></th>\n",
       "      <th></th>\n",
       "      <th></th>\n",
       "      <th></th>\n",
       "      <th></th>\n",
       "      <th></th>\n",
       "      <th></th>\n",
       "      <th></th>\n",
       "      <th></th>\n",
       "      <th></th>\n",
       "      <th></th>\n",
       "      <th></th>\n",
       "      <th></th>\n",
       "      <th></th>\n",
       "      <th></th>\n",
       "      <th></th>\n",
       "      <th></th>\n",
       "    </tr>\n",
       "  </thead>\n",
       "  <tbody>\n",
       "    <tr>\n",
       "      <th>2017-04-05 17:03:00</th>\n",
       "      <td>2375.6399</td>\n",
       "      <td>41.84</td>\n",
       "      <td>145.3439</td>\n",
       "      <td>131.10</td>\n",
       "      <td>81.290</td>\n",
       "      <td>102.81</td>\n",
       "      <td>85.590</td>\n",
       "      <td>59.5300</td>\n",
       "      <td>118.550</td>\n",
       "      <td>39.1000</td>\n",
       "      <td>...</td>\n",
       "      <td>85.7400</td>\n",
       "      <td>118.46</td>\n",
       "      <td>44.60</td>\n",
       "      <td>39.775</td>\n",
       "      <td>83.210</td>\n",
       "      <td>7.230</td>\n",
       "      <td>51.24</td>\n",
       "      <td>64.67</td>\n",
       "      <td>121.320</td>\n",
       "      <td>53.19</td>\n",
       "    </tr>\n",
       "    <tr>\n",
       "      <th>2017-04-05 17:04:00</th>\n",
       "      <td>2377.0500</td>\n",
       "      <td>41.86</td>\n",
       "      <td>145.3553</td>\n",
       "      <td>131.14</td>\n",
       "      <td>81.300</td>\n",
       "      <td>102.81</td>\n",
       "      <td>85.620</td>\n",
       "      <td>59.5400</td>\n",
       "      <td>118.580</td>\n",
       "      <td>39.1066</td>\n",
       "      <td>...</td>\n",
       "      <td>85.7300</td>\n",
       "      <td>118.58</td>\n",
       "      <td>44.59</td>\n",
       "      <td>39.770</td>\n",
       "      <td>83.210</td>\n",
       "      <td>7.234</td>\n",
       "      <td>51.22</td>\n",
       "      <td>64.69</td>\n",
       "      <td>121.280</td>\n",
       "      <td>53.20</td>\n",
       "    </tr>\n",
       "    <tr>\n",
       "      <th>2017-04-05 17:05:00</th>\n",
       "      <td>2377.7100</td>\n",
       "      <td>41.91</td>\n",
       "      <td>145.4100</td>\n",
       "      <td>131.15</td>\n",
       "      <td>81.350</td>\n",
       "      <td>102.85</td>\n",
       "      <td>85.650</td>\n",
       "      <td>59.5700</td>\n",
       "      <td>118.585</td>\n",
       "      <td>39.1100</td>\n",
       "      <td>...</td>\n",
       "      <td>85.7650</td>\n",
       "      <td>118.78</td>\n",
       "      <td>44.62</td>\n",
       "      <td>39.810</td>\n",
       "      <td>83.265</td>\n",
       "      <td>7.235</td>\n",
       "      <td>51.26</td>\n",
       "      <td>64.71</td>\n",
       "      <td>121.360</td>\n",
       "      <td>53.23</td>\n",
       "    </tr>\n",
       "    <tr>\n",
       "      <th>2017-04-05 17:06:00</th>\n",
       "      <td>2377.1799</td>\n",
       "      <td>41.97</td>\n",
       "      <td>145.4400</td>\n",
       "      <td>131.19</td>\n",
       "      <td>81.358</td>\n",
       "      <td>102.85</td>\n",
       "      <td>85.700</td>\n",
       "      <td>59.6200</td>\n",
       "      <td>118.610</td>\n",
       "      <td>39.1200</td>\n",
       "      <td>...</td>\n",
       "      <td>85.7575</td>\n",
       "      <td>118.85</td>\n",
       "      <td>44.63</td>\n",
       "      <td>39.820</td>\n",
       "      <td>83.310</td>\n",
       "      <td>7.240</td>\n",
       "      <td>51.28</td>\n",
       "      <td>64.71</td>\n",
       "      <td>121.375</td>\n",
       "      <td>53.25</td>\n",
       "    </tr>\n",
       "    <tr>\n",
       "      <th>2017-04-05 17:07:00</th>\n",
       "      <td>2376.8401</td>\n",
       "      <td>41.96</td>\n",
       "      <td>145.3700</td>\n",
       "      <td>131.13</td>\n",
       "      <td>81.340</td>\n",
       "      <td>102.86</td>\n",
       "      <td>85.695</td>\n",
       "      <td>59.6189</td>\n",
       "      <td>118.510</td>\n",
       "      <td>39.1150</td>\n",
       "      <td>...</td>\n",
       "      <td>85.7500</td>\n",
       "      <td>118.82</td>\n",
       "      <td>44.62</td>\n",
       "      <td>39.825</td>\n",
       "      <td>83.280</td>\n",
       "      <td>7.245</td>\n",
       "      <td>51.26</td>\n",
       "      <td>64.72</td>\n",
       "      <td>121.365</td>\n",
       "      <td>53.22</td>\n",
       "    </tr>\n",
       "  </tbody>\n",
       "</table>\n",
       "<p>5 rows × 501 columns</p>\n",
       "</div>"
      ],
      "text/plain": [
       "                         SP500  NASDAQ.AAL  NASDAQ.AAPL  NASDAQ.ADBE  \\\n",
       "DATE                                                                   \n",
       "2017-04-05 17:03:00  2375.6399       41.84     145.3439       131.10   \n",
       "2017-04-05 17:04:00  2377.0500       41.86     145.3553       131.14   \n",
       "2017-04-05 17:05:00  2377.7100       41.91     145.4100       131.15   \n",
       "2017-04-05 17:06:00  2377.1799       41.97     145.4400       131.19   \n",
       "2017-04-05 17:07:00  2376.8401       41.96     145.3700       131.13   \n",
       "\n",
       "                     NASDAQ.ADI  NASDAQ.ADP  NASDAQ.ADSK  NASDAQ.AKAM  \\\n",
       "DATE                                                                    \n",
       "2017-04-05 17:03:00      81.290      102.81       85.590      59.5300   \n",
       "2017-04-05 17:04:00      81.300      102.81       85.620      59.5400   \n",
       "2017-04-05 17:05:00      81.350      102.85       85.650      59.5700   \n",
       "2017-04-05 17:06:00      81.358      102.85       85.700      59.6200   \n",
       "2017-04-05 17:07:00      81.340      102.86       85.695      59.6189   \n",
       "\n",
       "                     NASDAQ.ALXN  NASDAQ.AMAT  ...  NYSE.WYN  NYSE.XEC  \\\n",
       "DATE                                           ...                       \n",
       "2017-04-05 17:03:00      118.550      39.1000  ...   85.7400    118.46   \n",
       "2017-04-05 17:04:00      118.580      39.1066  ...   85.7300    118.58   \n",
       "2017-04-05 17:05:00      118.585      39.1100  ...   85.7650    118.78   \n",
       "2017-04-05 17:06:00      118.610      39.1200  ...   85.7575    118.85   \n",
       "2017-04-05 17:07:00      118.510      39.1150  ...   85.7500    118.82   \n",
       "\n",
       "                     NYSE.XEL  NYSE.XL  NYSE.XOM  NYSE.XRX  NYSE.XYL  \\\n",
       "DATE                                                                   \n",
       "2017-04-05 17:03:00     44.60   39.775    83.210     7.230     51.24   \n",
       "2017-04-05 17:04:00     44.59   39.770    83.210     7.234     51.22   \n",
       "2017-04-05 17:05:00     44.62   39.810    83.265     7.235     51.26   \n",
       "2017-04-05 17:06:00     44.63   39.820    83.310     7.240     51.28   \n",
       "2017-04-05 17:07:00     44.62   39.825    83.280     7.245     51.26   \n",
       "\n",
       "                     NYSE.YUM  NYSE.ZBH  NYSE.ZTS  \n",
       "DATE                                               \n",
       "2017-04-05 17:03:00     64.67   121.320     53.19  \n",
       "2017-04-05 17:04:00     64.69   121.280     53.20  \n",
       "2017-04-05 17:05:00     64.71   121.360     53.23  \n",
       "2017-04-05 17:06:00     64.71   121.375     53.25  \n",
       "2017-04-05 17:07:00     64.72   121.365     53.22  \n",
       "\n",
       "[5 rows x 501 columns]"
      ]
     },
     "execution_count": 10,
     "metadata": {},
     "output_type": "execute_result"
    }
   ],
   "source": [
    "df.tail()"
   ]
  },
  {
   "cell_type": "code",
   "execution_count": 11,
   "metadata": {},
   "outputs": [],
   "source": [
    "df_AAPL = df[['NASDAQ.AAPL']].copy()"
   ]
  },
  {
   "cell_type": "code",
   "execution_count": 12,
   "metadata": {},
   "outputs": [
    {
     "data": {
      "text/html": [
       "<div>\n",
       "<style scoped>\n",
       "    .dataframe tbody tr th:only-of-type {\n",
       "        vertical-align: middle;\n",
       "    }\n",
       "\n",
       "    .dataframe tbody tr th {\n",
       "        vertical-align: top;\n",
       "    }\n",
       "\n",
       "    .dataframe thead th {\n",
       "        text-align: right;\n",
       "    }\n",
       "</style>\n",
       "<table border=\"1\" class=\"dataframe\">\n",
       "  <thead>\n",
       "    <tr style=\"text-align: right;\">\n",
       "      <th></th>\n",
       "      <th>NASDAQ.AAPL</th>\n",
       "    </tr>\n",
       "    <tr>\n",
       "      <th>DATE</th>\n",
       "      <th></th>\n",
       "    </tr>\n",
       "  </thead>\n",
       "  <tbody>\n",
       "    <tr>\n",
       "      <th>2017-04-05 17:03:00</th>\n",
       "      <td>145.3439</td>\n",
       "    </tr>\n",
       "    <tr>\n",
       "      <th>2017-04-05 17:04:00</th>\n",
       "      <td>145.3553</td>\n",
       "    </tr>\n",
       "    <tr>\n",
       "      <th>2017-04-05 17:05:00</th>\n",
       "      <td>145.4100</td>\n",
       "    </tr>\n",
       "    <tr>\n",
       "      <th>2017-04-05 17:06:00</th>\n",
       "      <td>145.4400</td>\n",
       "    </tr>\n",
       "    <tr>\n",
       "      <th>2017-04-05 17:07:00</th>\n",
       "      <td>145.3700</td>\n",
       "    </tr>\n",
       "  </tbody>\n",
       "</table>\n",
       "</div>"
      ],
      "text/plain": [
       "                     NASDAQ.AAPL\n",
       "DATE                            \n",
       "2017-04-05 17:03:00     145.3439\n",
       "2017-04-05 17:04:00     145.3553\n",
       "2017-04-05 17:05:00     145.4100\n",
       "2017-04-05 17:06:00     145.4400\n",
       "2017-04-05 17:07:00     145.3700"
      ]
     },
     "execution_count": 12,
     "metadata": {},
     "output_type": "execute_result"
    }
   ],
   "source": [
    "df_AAPL.tail()"
   ]
  },
  {
   "cell_type": "code",
   "execution_count": 13,
   "metadata": {},
   "outputs": [
    {
     "data": {
      "text/plain": [
       "NASDAQ.AAPL    1000\n",
       "dtype: int64"
      ]
     },
     "execution_count": 13,
     "metadata": {},
     "output_type": "execute_result"
    }
   ],
   "source": [
    "df_AAPL.count()"
   ]
  },
  {
   "cell_type": "code",
   "execution_count": 14,
   "metadata": {},
   "outputs": [
    {
     "data": {
      "text/plain": [
       "<matplotlib.axes._subplots.AxesSubplot at 0x2169843b9e8>"
      ]
     },
     "execution_count": 14,
     "metadata": {},
     "output_type": "execute_result"
    },
    {
     "data": {
      "image/png": "[encoded data removed]",
      "text/plain": [
       "<Figure size 432x288 with 1 Axes>"
      ]
     },
     "metadata": {
      "needs_background": "light"
     },
     "output_type": "display_data"
    }
   ],
   "source": [
    "df_AAPL.plot()"
   ]
  },
  {
   "cell_type": "markdown",
   "metadata": {},
   "source": [
    "Stationary means mean,variance and covariance is constant over periods.\n"
   ]
  },
  {
   "cell_type": "code",
   "execution_count": 15,
   "metadata": {},
   "outputs": [
    {
     "data": {
      "image/png": "[encoded data removed]",
      "text/plain": [
       "<Figure size 432x288 with 1 Axes>"
      ]
     },
     "execution_count": 15,
     "metadata": {},
     "output_type": "execute_result"
    },
    {
     "data": {
      "image/png": "[encoded data removed]",
      "text/plain": [
       "<Figure size 432x288 with 1 Axes>"
      ]
     },
     "metadata": {
      "needs_background": "light"
     },
     "output_type": "display_data"
    }
   ],
   "source": [
    "from statsmodels.graphics.tsaplots import plot_acf\n",
    "plot_acf(df_AAPL)"
   ]
  },
  {
   "cell_type": "markdown",
   "metadata": {},
   "source": [
    "### Converting series to stationary"
   ]
  },
  {
   "cell_type": "code",
   "execution_count": 16,
   "metadata": {},
   "outputs": [
    {
     "data": {
      "text/html": [
       "<div>\n",
       "<style scoped>\n",
       "    .dataframe tbody tr th:only-of-type {\n",
       "        vertical-align: middle;\n",
       "    }\n",
       "\n",
       "    .dataframe tbody tr th {\n",
       "        vertical-align: top;\n",
       "    }\n",
       "\n",
       "    .dataframe thead th {\n",
       "        text-align: right;\n",
       "    }\n",
       "</style>\n",
       "<table border=\"1\" class=\"dataframe\">\n",
       "  <thead>\n",
       "    <tr style=\"text-align: right;\">\n",
       "      <th></th>\n",
       "      <th>NASDAQ.AAPL</th>\n",
       "    </tr>\n",
       "    <tr>\n",
       "      <th>DATE</th>\n",
       "      <th></th>\n",
       "    </tr>\n",
       "  </thead>\n",
       "  <tbody>\n",
       "    <tr>\n",
       "      <th>2017-04-03 13:30:00</th>\n",
       "      <td>NaN</td>\n",
       "    </tr>\n",
       "    <tr>\n",
       "      <th>2017-04-03 13:31:00</th>\n",
       "      <td>143.6800</td>\n",
       "    </tr>\n",
       "    <tr>\n",
       "      <th>2017-04-03 13:32:00</th>\n",
       "      <td>143.7000</td>\n",
       "    </tr>\n",
       "    <tr>\n",
       "      <th>2017-04-03 13:33:00</th>\n",
       "      <td>143.6901</td>\n",
       "    </tr>\n",
       "    <tr>\n",
       "      <th>2017-04-03 13:34:00</th>\n",
       "      <td>143.6400</td>\n",
       "    </tr>\n",
       "    <tr>\n",
       "      <th>...</th>\n",
       "      <td>...</td>\n",
       "    </tr>\n",
       "    <tr>\n",
       "      <th>2017-04-05 17:03:00</th>\n",
       "      <td>145.3542</td>\n",
       "    </tr>\n",
       "    <tr>\n",
       "      <th>2017-04-05 17:04:00</th>\n",
       "      <td>145.3439</td>\n",
       "    </tr>\n",
       "    <tr>\n",
       "      <th>2017-04-05 17:05:00</th>\n",
       "      <td>145.3553</td>\n",
       "    </tr>\n",
       "    <tr>\n",
       "      <th>2017-04-05 17:06:00</th>\n",
       "      <td>145.4100</td>\n",
       "    </tr>\n",
       "    <tr>\n",
       "      <th>2017-04-05 17:07:00</th>\n",
       "      <td>145.4400</td>\n",
       "    </tr>\n",
       "  </tbody>\n",
       "</table>\n",
       "<p>1000 rows × 1 columns</p>\n",
       "</div>"
      ],
      "text/plain": [
       "                     NASDAQ.AAPL\n",
       "DATE                            \n",
       "2017-04-03 13:30:00          NaN\n",
       "2017-04-03 13:31:00     143.6800\n",
       "2017-04-03 13:32:00     143.7000\n",
       "2017-04-03 13:33:00     143.6901\n",
       "2017-04-03 13:34:00     143.6400\n",
       "...                          ...\n",
       "2017-04-05 17:03:00     145.3542\n",
       "2017-04-05 17:04:00     145.3439\n",
       "2017-04-05 17:05:00     145.3553\n",
       "2017-04-05 17:06:00     145.4100\n",
       "2017-04-05 17:07:00     145.4400\n",
       "\n",
       "[1000 rows x 1 columns]"
      ]
     },
     "execution_count": 16,
     "metadata": {},
     "output_type": "execute_result"
    }
   ],
   "source": [
    "df_AAPL.shift(1)"
   ]
  },
  {
   "cell_type": "code",
   "execution_count": 17,
   "metadata": {},
   "outputs": [
    {
     "name": "stdout",
     "output_type": "stream",
     "text": [
      "1000\n",
      "0\n"
     ]
    }
   ],
   "source": [
    "X = df_AAPL.values\n",
    "train = X[0:28886] # 27 data as train data\n",
    "test = X[28886:] # 9 data as test data\n",
    "print(train.size)\n",
    "print(test.size)\n",
    "predictions = []"
   ]
  },
  {
   "cell_type": "markdown",
   "metadata": {},
   "source": [
    "### ARIMA model"
   ]
  },
  {
   "cell_type": "code",
   "execution_count": 18,
   "metadata": {},
   "outputs": [],
   "source": [
    "from statsmodels.tsa.arima_model import ARIMA"
   ]
  },
  {
   "cell_type": "code",
   "execution_count": 19,
   "metadata": {},
   "outputs": [],
   "source": [
    "import itertools\n",
    "p=d=q=range(0,6)\n",
    "pdq=list(itertools.product(p,d,q))"
   ]
  },
  {
   "cell_type": "code",
   "execution_count": 20,
   "metadata": {},
   "outputs": [
    {
     "name": "stdout",
     "output_type": "stream",
     "text": [
      "(0, 0, 0) 1863.1405328498045\n",
      "(0, 0, 1) 579.5753901152352\n",
      "(0, 0, 2) -338.00779023705263\n",
      "(0, 0, 3) -1027.289651497938\n",
      "(0, 0, 4) -1451.73355969167\n",
      "(0, 0, 5) -1746.873626399848\n",
      "(0, 1, 0) -3166.1205939267666\n",
      "(0, 1, 1) -3165.0761099321735\n",
      "(0, 1, 2) -3173.29615454991\n",
      "(0, 1, 3) -3171.895587528381\n",
      "(0, 1, 4) -3170.066415581905\n",
      "(0, 1, 5) -3176.164581963857\n",
      "(0, 2, 0) -2444.1611002615864\n",
      "(0, 2, 1) -3147.6064334751263\n",
      "(0, 2, 2) -3146.225453555493\n",
      "(0, 2, 3) -3153.334696102477\n",
      "(0, 2, 4) -3152.1773673687367\n",
      "(0, 2, 5) -3150.5065248942756\n",
      "(1, 0, 0) -3161.8098825158604\n",
      "(1, 0, 1) -3160.579928428312\n",
      "(1, 0, 2) -3168.2445017854598\n",
      "(1, 0, 3) -3166.9542815254545\n",
      "(1, 0, 4) -3165.1931619826164\n",
      "(1, 0, 5) -3171.7967550744024\n",
      "(1, 1, 0) -3164.879541926656\n",
      "(1, 1, 1) -3166.345516174222\n",
      "(1, 1, 2) -3172.2736333450366\n",
      "(1, 1, 3) -3171.017747013907\n",
      "(1, 1, 4) -3169.500402866457\n",
      "(1, 1, 5) -3174.4155572002373\n",
      "(1, 2, 0) -2682.7222656964877\n",
      "(1, 2, 1) -3151.3451781687336\n",
      "(1, 2, 2) -3153.69093384613\n",
      "(1, 2, 3) -3157.502464074506\n",
      "(1, 2, 4) -3158.4490973446427\n",
      "(1, 2, 5) -3156.3545558442265\n",
      "(2, 0, 0) -3160.4250937850884\n",
      "(2, 0, 1) -3162.149406215067\n",
      "(2, 0, 2) -3167.42397222799\n",
      "(2, 0, 3) -3166.7099142617044\n",
      "(2, 0, 4) -3164.754467284367\n",
      "(2, 0, 5) -3169.9656028569752\n",
      "(2, 1, 0) -3173.5982377486853\n",
      "(2, 1, 1) -3171.5983279554102\n",
      "(2, 1, 2) -3171.6691398648563\n",
      "(2, 1, 3) -3172.2822952249826\n",
      "(2, 1, 4) -3185.768980262548\n",
      "(2, 1, 5) -3172.4674002879874\n",
      "(2, 2, 0) -2842.2703025194032\n",
      "(2, 2, 1) -3160.877903715871\n",
      "(2, 2, 2) -3155.7394005616525\n",
      "(2, 2, 3) -3150.751237875\n",
      "(2, 2, 4) -3153.54367463783\n",
      "(2, 2, 5) -3157.8825009473185\n",
      "(3, 0, 0) -3168.5943816105446\n",
      "(3, 0, 1) -3166.599622845497\n",
      "(3, 0, 2) -3166.246163113441\n",
      "(3, 0, 3) -3164.720251242259\n",
      "(3, 0, 4) -3157.724116008635\n",
      "(3, 0, 5) -3167.988028203511\n",
      "(3, 1, 0) -3171.59833380281\n",
      "(3, 1, 1) -3169.5982700366512\n",
      "(3, 1, 2) -3169.5362714201137\n",
      "(3, 1, 3) -3174.00579926963\n",
      "(3, 1, 4) -3173.8498988300344\n",
      "(3, 1, 5) -3171.8522770864047\n",
      "(3, 2, 0) -2922.3482447576425\n",
      "(3, 2, 1) -3158.8270911407144\n",
      "(3, 2, 2) -3156.9910403250797\n",
      "(3, 2, 3) -3156.7738800530888\n",
      "(3, 2, 4) -3151.6904868103966\n",
      "(3, 2, 5) -3158.1496439172497\n",
      "(4, 0, 0) -3166.600011941119\n",
      "(4, 0, 1) -3165.195079838807\n",
      "(4, 0, 2) -3165.0439608821325\n",
      "(4, 0, 3) -3169.4832230428037\n",
      "(4, 0, 4) -3168.9423625455383\n",
      "(4, 0, 5) -3163.4188166066997\n",
      "(4, 1, 0) -3169.6079081238795\n",
      "(4, 1, 1) -3168.7556830819967\n",
      "(4, 1, 2) -3185.397515507023\n",
      "(4, 1, 3) -3173.7628626452024\n",
      "(4, 1, 4) -3171.852104301758\n",
      "(4, 1, 5) -3170.0858771938856\n",
      "(4, 2, 0) -3005.730413266775\n",
      "(4, 2, 1) -3155.629676327302\n",
      "(4, 2, 2) -3155.44755234118\n",
      "(4, 2, 3) -3159.000312436856\n",
      "(4, 2, 4) -3156.073840031124\n",
      "(4, 2, 5) -3154.054848061918\n",
      "(5, 0, 0) -3164.6328439314093\n",
      "(5, 0, 1) -3165.687535612303\n",
      "(5, 0, 2) -3167.6472025688136\n",
      "(5, 0, 3) -3168.9081295937513\n",
      "(5, 0, 4) -3166.9543970120258\n",
      "(5, 0, 5) -3164.9573752867545\n",
      "(5, 1, 0) -3175.482485786938\n",
      "(5, 1, 1) -3174.052468986927\n",
      "(5, 1, 2) -3172.1229481181\n",
      "(5, 1, 3) -3170.2804396577403\n",
      "(5, 1, 4) -3174.8894721759807\n",
      "(5, 1, 5) -3172.205032839378\n",
      "(5, 2, 0) -3022.197020087161\n",
      "(5, 2, 1) -3162.292978354458\n",
      "(5, 2, 2) -3153.0651222721126\n",
      "(5, 2, 3) -3149.220369086979\n",
      "(5, 2, 4) -3154.9457883606465\n",
      "(5, 2, 5) -3153.4298001258812\n"
     ]
    }
   ],
   "source": [
    "import warnings\n",
    "warnings.filterwarnings('ignore')\n",
    "for param in pdq:\n",
    "    try:\n",
    "        model_arima = ARIMA(train, order=param)\n",
    "        model_arima_fit = model_arima.fit()\n",
    "        print(param,model_arima_fit.aic)\n",
    "    except:\n",
    "        continue"
   ]
  },
  {
   "cell_type": "code",
   "execution_count": 26,
   "metadata": {},
   "outputs": [
    {
     "name": "stdout",
     "output_type": "stream",
     "text": [
      "-3152.1773673687367\n"
     ]
    }
   ],
   "source": [
    "#p,d,q \n",
    "#p -> Periods taken for auto regressive model\n",
    "#d -> Integrated order, difference\n",
    "#q -> Periods in moving average model\n",
    "model_arima = ARIMA(train, order=(0,2,4))\n",
    "model_arima_fit = model_arima.fit()\n",
    "print(model_arima_fit.aic)"
   ]
  },
  {
   "cell_type": "code",
   "execution_count": 22,
   "metadata": {},
   "outputs": [
    {
     "data": {
      "text/plain": [
       "array([145.37256183, 145.38155564, 145.38352154, ..., 166.30690916,\n",
       "       166.30860008, 166.310291  ])"
      ]
     },
     "execution_count": 22,
     "metadata": {},
     "output_type": "execute_result"
    }
   ],
   "source": [
    "predictions = model_arima_fit.forecast(steps=12380)[0]\n",
    "predictions"
   ]
  },
  {
   "cell_type": "markdown",
   "metadata": {},
   "source": [
    "The above forecasting done for NASDAQ.AAPL. Similar can be done for other stocks."
   ]
  },
  {
   "cell_type": "code",
   "execution_count": null,
   "metadata": {},
   "outputs": [],
   "source": []
  }
 ],
 "metadata": {
  "kernelspec": {
   "display_name": "Python 3",
   "language": "python",
   "name": "python3"
  },
  "language_info": {
   "codemirror_mode": {
    "name": "ipython",
    "version": 3
   },
   "file_extension": ".py",
   "mimetype": "text/x-python",
   "name": "python",
   "nbconvert_exporter": "python",
   "pygments_lexer": "ipython3",
   "version": "3.6.10"
  }
 },
 "nbformat": 4,
 "nbformat_minor": 4
}
